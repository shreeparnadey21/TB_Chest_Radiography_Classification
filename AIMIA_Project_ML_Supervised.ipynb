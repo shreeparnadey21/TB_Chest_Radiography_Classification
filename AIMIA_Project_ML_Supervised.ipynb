{
 "cells": [
  {
   "cell_type": "code",
   "execution_count": 2,
   "id": "9c92e974",
   "metadata": {},
   "outputs": [],
   "source": [
    "import numpy as np\n",
    "import matplotlib.pyplot as plt\n",
    "import os\n",
    "import random\n",
    "\n",
    "from sklearn.model_selection import train_test_split\n",
    "from sklearn.metrics import classification_report\n",
    "from sklearn.svm import SVC\n",
    "from sklearn.ensemble import RandomForestClassifier\n",
    "from sklearn.neural_network import MLPClassifier"
   ]
  },
  {
   "cell_type": "code",
   "execution_count": 3,
   "id": "88a9599a",
   "metadata": {},
   "outputs": [
    {
     "name": "stdout",
     "output_type": "stream",
     "text": [
      "Number of Normal Images: 3500\n",
      "Number of Tuberculosis Images: 700\n"
     ]
    }
   ],
   "source": [
    "imgs=[]\n",
    "\n",
    "p1='TB_Chest_Radiography_Database/Normal'\n",
    "l1=os.listdir('TB_Chest_Radiography_Database/Normal')\n",
    "\n",
    "p2='TB_Chest_Radiography_Database/Tuberculosis'\n",
    "l2=os.listdir('TB_Chest_Radiography_Database/Tuberculosis')\n",
    "\n",
    "print('Number of Normal Images:',len(l1))\n",
    "print('Number of Tuberculosis Images:',len(l2))\n",
    "\n",
    "# for i in l1:\n",
    "#     imgs.append((plt.imread(p1+'/'+i),0))\n",
    "\n",
    "i1_=list(range(len(l1)))\n",
    "random.shuffle(i1_)\n",
    "\n",
    "no=len(l2)\n",
    "# no=len(l1)\n",
    "\n",
    "for i in i1_[:no]:\n",
    "    m1=plt.imread(p1+'/'+l1[i])\n",
    "    if len(m1.shape)==3:\n",
    "        imgs.append((np.mean(m1,axis=2),0))\n",
    "    else:\n",
    "        imgs.append((m1,0))\n",
    "    \n",
    "for i in l2:\n",
    "    m2=plt.imread(p2+'/'+i)\n",
    "    if len(m2.shape)==3:\n",
    "        imgs.append((np.mean(m2,axis=2),1))\n",
    "    else:\n",
    "        imgs.append((m2,1))"
   ]
  },
  {
   "cell_type": "code",
   "execution_count": 4,
   "id": "8037958b",
   "metadata": {},
   "outputs": [
    {
     "name": "stdout",
     "output_type": "stream",
     "text": [
      "Total Images taken to work with: 1400\n"
     ]
    }
   ],
   "source": [
    "print('Total Images taken to work with:',len(imgs))\n",
    "\n",
    "i_=list(range(len(imgs)))\n",
    "random.shuffle(i_) "
   ]
  },
  {
   "cell_type": "code",
   "execution_count": 5,
   "id": "2d8092e6",
   "metadata": {},
   "outputs": [],
   "source": [
    "x=[]\n",
    "y=[]\n",
    "for i in i_:\n",
    "    x.append(imgs[i][0].flatten())\n",
    "    y.append(imgs[i][1])"
   ]
  },
  {
   "cell_type": "code",
   "execution_count": 6,
   "id": "ad73e8f5",
   "metadata": {},
   "outputs": [
    {
     "data": {
      "text/plain": [
       "(262144,)"
      ]
     },
     "execution_count": 6,
     "metadata": {},
     "output_type": "execute_result"
    }
   ],
   "source": [
    "x[0].shape"
   ]
  },
  {
   "cell_type": "code",
   "execution_count": 7,
   "id": "98c3e9d8",
   "metadata": {},
   "outputs": [],
   "source": [
    "xtr,xte,ytr,yte=train_test_split(x, y, test_size=0.33, random_state=42)"
   ]
  },
  {
   "cell_type": "code",
   "execution_count": 8,
   "id": "2156f72f",
   "metadata": {},
   "outputs": [
    {
     "name": "stdout",
     "output_type": "stream",
     "text": [
      "Training Report:\n",
      "              precision    recall  f1-score   support\n",
      "\n",
      "           0       0.97      0.98      0.98       461\n",
      "           1       0.98      0.97      0.98       477\n",
      "\n",
      "    accuracy                           0.98       938\n",
      "   macro avg       0.98      0.98      0.98       938\n",
      "weighted avg       0.98      0.98      0.98       938\n",
      "\n",
      "Testing Report:\n",
      "              precision    recall  f1-score   support\n",
      "\n",
      "           0       0.99      0.97      0.98       239\n",
      "           1       0.97      0.99      0.98       223\n",
      "\n",
      "    accuracy                           0.98       462\n",
      "   macro avg       0.98      0.98      0.98       462\n",
      "weighted avg       0.98      0.98      0.98       462\n",
      "\n"
     ]
    }
   ],
   "source": [
    "model=SVC()\n",
    "model.fit(xtr,ytr)\n",
    "ytrpred=model.predict(xtr)\n",
    "ytepred=model.predict(xte)\n",
    "\n",
    "print('Training Report:')\n",
    "print(classification_report(ytr,ytrpred))\n",
    "print('Testing Report:')\n",
    "print(classification_report(yte,ytepred))"
   ]
  },
  {
   "cell_type": "code",
   "execution_count": 9,
   "id": "32bb6d46",
   "metadata": {
    "scrolled": true
   },
   "outputs": [
    {
     "name": "stdout",
     "output_type": "stream",
     "text": [
      "Training Report:\n",
      "              precision    recall  f1-score   support\n",
      "\n",
      "           0       1.00      1.00      1.00       461\n",
      "           1       1.00      1.00      1.00       477\n",
      "\n",
      "    accuracy                           1.00       938\n",
      "   macro avg       1.00      1.00      1.00       938\n",
      "weighted avg       1.00      1.00      1.00       938\n",
      "\n",
      "Testing Report:\n",
      "              precision    recall  f1-score   support\n",
      "\n",
      "           0       0.98      0.95      0.97       239\n",
      "           1       0.95      0.98      0.96       223\n",
      "\n",
      "    accuracy                           0.97       462\n",
      "   macro avg       0.97      0.97      0.97       462\n",
      "weighted avg       0.97      0.97      0.97       462\n",
      "\n"
     ]
    }
   ],
   "source": [
    "model=RandomForestClassifier()\n",
    "model.fit(xtr,ytr)\n",
    "ytrpred=model.predict(xtr)\n",
    "ytepred=model.predict(xte)\n",
    "\n",
    "print('Training Report:')\n",
    "print(classification_report(ytr,ytrpred))\n",
    "print('Testing Report:')\n",
    "print(classification_report(yte,ytepred))"
   ]
  },
  {
   "cell_type": "code",
   "execution_count": 10,
   "id": "90ff6096",
   "metadata": {},
   "outputs": [
    {
     "name": "stdout",
     "output_type": "stream",
     "text": [
      "Training Report:\n",
      "              precision    recall  f1-score   support\n",
      "\n",
      "           0       0.97      0.85      0.91       461\n",
      "           1       0.87      0.97      0.92       477\n",
      "\n",
      "    accuracy                           0.91       938\n",
      "   macro avg       0.92      0.91      0.91       938\n",
      "weighted avg       0.92      0.91      0.91       938\n",
      "\n",
      "Testing Report:\n",
      "              precision    recall  f1-score   support\n",
      "\n",
      "           0       0.98      0.86      0.92       239\n",
      "           1       0.87      0.98      0.92       223\n",
      "\n",
      "    accuracy                           0.92       462\n",
      "   macro avg       0.93      0.92      0.92       462\n",
      "weighted avg       0.93      0.92      0.92       462\n",
      "\n"
     ]
    }
   ],
   "source": [
    "model=MLPClassifier(hidden_layer_sizes=(500,200,100))\n",
    "model.fit(xtr,ytr)\n",
    "ytrpred=model.predict(xtr)\n",
    "ytepred=model.predict(xte)\n",
    "\n",
    "print('Training Report:')\n",
    "print(classification_report(ytr,ytrpred))\n",
    "print('Testing Report:')\n",
    "print(classification_report(yte,ytepred))"
   ]
  },
  {
   "cell_type": "code",
   "execution_count": null,
   "id": "eb3b9f11",
   "metadata": {},
   "outputs": [],
   "source": []
  }
 ],
 "metadata": {
  "kernelspec": {
   "display_name": "Python 3 (ipykernel)",
   "language": "python",
   "name": "python3"
  },
  "language_info": {
   "codemirror_mode": {
    "name": "ipython",
    "version": 3
   },
   "file_extension": ".py",
   "mimetype": "text/x-python",
   "name": "python",
   "nbconvert_exporter": "python",
   "pygments_lexer": "ipython3",
   "version": "3.10.6"
  }
 },
 "nbformat": 4,
 "nbformat_minor": 5
}
