{
 "cells": [
  {
   "cell_type": "code",
   "execution_count": null,
   "id": "WX43wRe61LlD",
   "metadata": {
    "colab": {
     "base_uri": "https://localhost:8080/"
    },
    "id": "WX43wRe61LlD",
    "outputId": "b50d9b1e-c9fc-4158-e41f-3c06817b127c"
   },
   "outputs": [
    {
     "name": "stdout",
     "output_type": "stream",
     "text": [
      "Mounted at /content/drive\n"
     ]
    }
   ],
   "source": [
    "from google.colab import drive\n",
    "drive.mount('/content/drive')"
   ]
  },
  {
   "cell_type": "code",
   "execution_count": null,
   "id": "aLzkVcS11Ta6",
   "metadata": {
    "id": "aLzkVcS11Ta6"
   },
   "outputs": [],
   "source": [
    "!unzip /content/drive/MyDrive/archive.zip -d /content/drive/MyDrive"
   ]
  },
  {
   "cell_type": "code",
   "execution_count": 1,
   "id": "9c92e974",
   "metadata": {
    "id": "9c92e974"
   },
   "outputs": [],
   "source": [
    "import numpy as np\n",
    "import matplotlib.pyplot as plt\n",
    "import os\n",
    "import random\n",
    "\n",
    "from sklearn.model_selection import train_test_split\n",
    "from sklearn.metrics import classification_report\n",
    "from sklearn.svm import SVC\n",
    "from sklearn.ensemble import RandomForestClassifier\n",
    "from sklearn.metrics import f1_score\n",
    "import cv2"
   ]
  },
  {
   "cell_type": "code",
   "execution_count": 3,
   "id": "88a9599a",
   "metadata": {
    "colab": {
     "base_uri": "https://localhost:8080/"
    },
    "id": "88a9599a",
    "outputId": "1fa4e347-8eea-4a69-98a3-6dc4a74e960c"
   },
   "outputs": [
    {
     "name": "stdout",
     "output_type": "stream",
     "text": [
      "Number of Normal Images: 3500\n",
      "Number of Tuberculosis Images: 700\n"
     ]
    }
   ],
   "source": [
    "imgs=[]\n",
    "\n",
    "p1='TB_Chest_Radiography_Database/Normal'\n",
    "l1=os.listdir('TB_Chest_Radiography_Database/Normal')\n",
    "\n",
    "p2='TB_Chest_Radiography_Database/Tuberculosis'\n",
    "l2=os.listdir('TB_Chest_Radiography_Database/Tuberculosis')\n",
    "\n",
    "print('Number of Normal Images:',len(l1))\n",
    "print('Number of Tuberculosis Images:',len(l2))\n",
    "\n",
    "# for i in l1:\n",
    "#     imgs.append((plt.imread(p1+'/'+i),0))\n",
    "\n",
    "i1_=list(range(len(l1)))\n",
    "random.shuffle(i1_)\n",
    "\n",
    "no=len(l2)\n",
    "# no=len(l1)\n",
    "\n",
    "for i in i1_[:no]:\n",
    "    m1=plt.imread(p1+'/'+l1[i])\n",
    "    if len(m1.shape)==3:\n",
    "        imgs.append((np.mean(m1,axis=2),0))\n",
    "    else:\n",
    "        imgs.append((m1,0))\n",
    "    \n",
    "for i in l2:\n",
    "    m2=plt.imread(p2+'/'+i)\n",
    "    if len(m2.shape)==3:\n",
    "        imgs.append((np.mean(m2,axis=2),1))\n",
    "    else:\n",
    "        imgs.append((m2,1))"
   ]
  },
  {
   "cell_type": "code",
   "execution_count": 4,
   "id": "8037958b",
   "metadata": {
    "colab": {
     "base_uri": "https://localhost:8080/"
    },
    "id": "8037958b",
    "outputId": "e9f32bde-e180-48c6-c8b8-a252d7370752"
   },
   "outputs": [
    {
     "name": "stdout",
     "output_type": "stream",
     "text": [
      "Total Images taken to work with: 1400\n"
     ]
    }
   ],
   "source": [
    "print('Total Images taken to work with:',len(imgs))\n",
    "\n",
    "i_=list(range(len(imgs)))\n",
    "random.shuffle(i_) "
   ]
  },
  {
   "cell_type": "code",
   "execution_count": 5,
   "id": "2d8092e6",
   "metadata": {
    "id": "2d8092e6"
   },
   "outputs": [],
   "source": [
    "x=[]\n",
    "y=[]\n",
    "for i in i_:\n",
    "    x.append(cv2.resize(imgs[i][0], (256, 256)))\n",
    "    y.append(imgs[i][1])"
   ]
  },
  {
   "cell_type": "code",
   "execution_count": 6,
   "id": "98c3e9d8",
   "metadata": {
    "id": "98c3e9d8"
   },
   "outputs": [],
   "source": [
    "xtr, xte, ytr, yte =train_test_split(x, y, test_size=0.33)\n",
    "xtr = np.array(xtr)\n",
    "xte = np.array(xte)\n",
    "Xtr = xtr.reshape(xtr.shape[0],256,256,1)\n",
    "Xte = xte.reshape(xte.shape[0],256,256,1)"
   ]
  },
  {
   "cell_type": "code",
   "execution_count": 7,
   "id": "UGWMRGGTZm3r",
   "metadata": {
    "id": "UGWMRGGTZm3r"
   },
   "outputs": [
    {
     "name": "stderr",
     "output_type": "stream",
     "text": [
      "2022-12-07 18:59:03.844056: I tensorflow/core/platform/cpu_feature_guard.cc:193] This TensorFlow binary is optimized with oneAPI Deep Neural Network Library (oneDNN) to use the following CPU instructions in performance-critical operations:  AVX2 AVX512F AVX512_VNNI FMA\n",
      "To enable them in other operations, rebuild TensorFlow with the appropriate compiler flags.\n",
      "2022-12-07 18:59:04.014039: I tensorflow/core/util/port.cc:104] oneDNN custom operations are on. You may see slightly different numerical results due to floating-point round-off errors from different computation orders. To turn them off, set the environment variable `TF_ENABLE_ONEDNN_OPTS=0`.\n",
      "2022-12-07 18:59:04.042260: W tensorflow/compiler/xla/stream_executor/platform/default/dso_loader.cc:64] Could not load dynamic library 'libcudart.so.11.0'; dlerror: libcudart.so.11.0: cannot open shared object file: No such file or directory; LD_LIBRARY_PATH: /home/shreeparna/Desktop/notebook/jupyterenv/lib/python3.10/site-packages/cv2/../../lib64:\n",
      "2022-12-07 18:59:04.042272: I tensorflow/compiler/xla/stream_executor/cuda/cudart_stub.cc:29] Ignore above cudart dlerror if you do not have a GPU set up on your machine.\n",
      "2022-12-07 18:59:04.655406: W tensorflow/compiler/xla/stream_executor/platform/default/dso_loader.cc:64] Could not load dynamic library 'libnvinfer.so.7'; dlerror: libnvinfer.so.7: cannot open shared object file: No such file or directory; LD_LIBRARY_PATH: /home/shreeparna/Desktop/notebook/jupyterenv/lib/python3.10/site-packages/cv2/../../lib64:\n",
      "2022-12-07 18:59:04.655472: W tensorflow/compiler/xla/stream_executor/platform/default/dso_loader.cc:64] Could not load dynamic library 'libnvinfer_plugin.so.7'; dlerror: libnvinfer_plugin.so.7: cannot open shared object file: No such file or directory; LD_LIBRARY_PATH: /home/shreeparna/Desktop/notebook/jupyterenv/lib/python3.10/site-packages/cv2/../../lib64:\n",
      "2022-12-07 18:59:04.655477: W tensorflow/compiler/tf2tensorrt/utils/py_utils.cc:38] TF-TRT Warning: Cannot dlopen some TensorRT libraries. If you would like to use Nvidia GPU with TensorRT, please make sure the missing libraries mentioned above are installed properly.\n"
     ]
    }
   ],
   "source": [
    "from keras.models import Sequential\n",
    "from keras.layers import Conv2D, MaxPooling2D, Dense, Flatten"
   ]
  },
  {
   "cell_type": "code",
   "execution_count": 13,
   "id": "-CTaggotYd3l",
   "metadata": {
    "id": "-CTaggotYd3l"
   },
   "outputs": [],
   "source": [
    "cnn_model = Sequential([\n",
    "    Conv2D(32, (3, 3), activation='relu', kernel_initializer='he_uniform', padding='same', input_shape=(256, 256,1)),\n",
    "    MaxPooling2D((2, 2)),\n",
    "    Conv2D(32, (3, 3), activation='relu', kernel_initializer='he_uniform', padding='same'),\n",
    "    MaxPooling2D((2, 2)),\n",
    "    Conv2D(64, (3, 3), activation='relu', kernel_initializer='he_uniform', padding='same'),\n",
    "    MaxPooling2D((2, 2)),\n",
    "    Flatten(),\n",
    "    Dense(1024, activation='relu', kernel_initializer='he_uniform'),\n",
    "    Dense(256, activation='relu', kernel_initializer='he_uniform'),\n",
    "    Dense(128, activation='relu', kernel_initializer='he_uniform'),\n",
    "    Dense(1, activation='sigmoid')\n",
    "])\n",
    "cnn_model.compile(optimizer=\"adam\", loss='binary_crossentropy', metrics=['accuracy'] )"
   ]
  },
  {
   "cell_type": "code",
   "execution_count": 14,
   "id": "rUBL4iglbiuU",
   "metadata": {
    "colab": {
     "base_uri": "https://localhost:8080/"
    },
    "id": "rUBL4iglbiuU",
    "outputId": "7a081a99-49bc-4bde-dc93-238117131023"
   },
   "outputs": [
    {
     "name": "stdout",
     "output_type": "stream",
     "text": [
      "Model: \"sequential_1\"\n",
      "_________________________________________________________________\n",
      " Layer (type)                Output Shape              Param #   \n",
      "=================================================================\n",
      " conv2d_3 (Conv2D)           (None, 256, 256, 32)      320       \n",
      "                                                                 \n",
      " max_pooling2d_3 (MaxPooling  (None, 128, 128, 32)     0         \n",
      " 2D)                                                             \n",
      "                                                                 \n",
      " conv2d_4 (Conv2D)           (None, 128, 128, 32)      9248      \n",
      "                                                                 \n",
      " max_pooling2d_4 (MaxPooling  (None, 64, 64, 32)       0         \n",
      " 2D)                                                             \n",
      "                                                                 \n",
      " conv2d_5 (Conv2D)           (None, 64, 64, 64)        18496     \n",
      "                                                                 \n",
      " max_pooling2d_5 (MaxPooling  (None, 32, 32, 64)       0         \n",
      " 2D)                                                             \n",
      "                                                                 \n",
      " flatten_1 (Flatten)         (None, 65536)             0         \n",
      "                                                                 \n",
      " dense_4 (Dense)             (None, 1024)              67109888  \n",
      "                                                                 \n",
      " dense_5 (Dense)             (None, 256)               262400    \n",
      "                                                                 \n",
      " dense_6 (Dense)             (None, 128)               32896     \n",
      "                                                                 \n",
      " dense_7 (Dense)             (None, 1)                 129       \n",
      "                                                                 \n",
      "=================================================================\n",
      "Total params: 67,433,377\n",
      "Trainable params: 67,433,377\n",
      "Non-trainable params: 0\n",
      "_________________________________________________________________\n",
      "Epoch 1/20\n",
      "30/30 [==============================] - 25s 803ms/step - loss: 4.3685 - accuracy: 0.6247 - val_loss: 0.3724 - val_accuracy: 0.8463\n",
      "Epoch 2/20\n",
      "30/30 [==============================] - 24s 786ms/step - loss: 0.2502 - accuracy: 0.8923 - val_loss: 0.1866 - val_accuracy: 0.9264\n",
      "Epoch 3/20\n",
      "30/30 [==============================] - 24s 790ms/step - loss: 0.1193 - accuracy: 0.9510 - val_loss: 0.0947 - val_accuracy: 0.9675\n",
      "Epoch 4/20\n",
      "30/30 [==============================] - 24s 791ms/step - loss: 0.0863 - accuracy: 0.9648 - val_loss: 0.1574 - val_accuracy: 0.9437\n",
      "Epoch 5/20\n",
      "30/30 [==============================] - 24s 792ms/step - loss: 0.0692 - accuracy: 0.9755 - val_loss: 0.2245 - val_accuracy: 0.9004\n",
      "Epoch 6/20\n",
      "30/30 [==============================] - 24s 791ms/step - loss: 0.0758 - accuracy: 0.9701 - val_loss: 0.1896 - val_accuracy: 0.9329\n",
      "Epoch 7/20\n",
      "30/30 [==============================] - 24s 788ms/step - loss: 0.0887 - accuracy: 0.9670 - val_loss: 0.2676 - val_accuracy: 0.9134\n",
      "Epoch 8/20\n",
      "30/30 [==============================] - 24s 790ms/step - loss: 0.1069 - accuracy: 0.9584 - val_loss: 0.1607 - val_accuracy: 0.9589\n",
      "Epoch 9/20\n",
      "30/30 [==============================] - 25s 847ms/step - loss: 0.0455 - accuracy: 0.9829 - val_loss: 0.1500 - val_accuracy: 0.9437\n",
      "Epoch 10/20\n",
      "30/30 [==============================] - 24s 786ms/step - loss: 0.0565 - accuracy: 0.9829 - val_loss: 0.2155 - val_accuracy: 0.9264\n",
      "Epoch 11/20\n",
      "30/30 [==============================] - 23s 785ms/step - loss: 0.0763 - accuracy: 0.9712 - val_loss: 0.2191 - val_accuracy: 0.9264\n",
      "Epoch 12/20\n",
      "30/30 [==============================] - 24s 786ms/step - loss: 0.0360 - accuracy: 0.9861 - val_loss: 0.2244 - val_accuracy: 0.9307\n",
      "Epoch 13/20\n",
      "30/30 [==============================] - 24s 786ms/step - loss: 0.0307 - accuracy: 0.9915 - val_loss: 0.1570 - val_accuracy: 0.9610\n",
      "Epoch 14/20\n",
      "30/30 [==============================] - 24s 806ms/step - loss: 0.0106 - accuracy: 0.9957 - val_loss: 0.1632 - val_accuracy: 0.9589\n",
      "Epoch 15/20\n",
      "30/30 [==============================] - 24s 812ms/step - loss: 0.0017 - accuracy: 1.0000 - val_loss: 0.1901 - val_accuracy: 0.9567\n",
      "Epoch 16/20\n",
      "30/30 [==============================] - 26s 857ms/step - loss: 5.4411e-04 - accuracy: 1.0000 - val_loss: 0.2082 - val_accuracy: 0.9545\n",
      "Epoch 17/20\n",
      "30/30 [==============================] - 24s 804ms/step - loss: 3.6994e-04 - accuracy: 1.0000 - val_loss: 0.2080 - val_accuracy: 0.9545\n",
      "Epoch 18/20\n",
      "30/30 [==============================] - 24s 794ms/step - loss: 1.1148e-04 - accuracy: 1.0000 - val_loss: 0.1922 - val_accuracy: 0.9545\n",
      "Epoch 19/20\n",
      "30/30 [==============================] - 24s 793ms/step - loss: 4.5130e-05 - accuracy: 1.0000 - val_loss: 0.2002 - val_accuracy: 0.9524\n",
      "Epoch 20/20\n",
      "30/30 [==============================] - 24s 793ms/step - loss: 3.1282e-05 - accuracy: 1.0000 - val_loss: 0.2037 - val_accuracy: 0.9545\n",
      "15/15 [==============================] - 2s 119ms/step\n",
      "              precision    recall  f1-score   support\n",
      "\n",
      "           0       0.97      0.93      0.95       227\n",
      "           1       0.94      0.97      0.96       235\n",
      "\n",
      "    accuracy                           0.95       462\n",
      "   macro avg       0.96      0.95      0.95       462\n",
      "weighted avg       0.96      0.95      0.95       462\n",
      "\n"
     ]
    }
   ],
   "source": [
    "cnn_model.summary()\n",
    "history = cnn_model.fit(Xtr, np.array(ytr), epochs=20, validation_data=(Xte, np.array(yte)))\n",
    "prediction= cnn_model.predict(Xte)\n",
    "prediction= (prediction > 0.5)\n",
    "print(classification_report(yte,prediction))"
   ]
  },
  {
   "cell_type": "code",
   "execution_count": 18,
   "id": "a45d57df",
   "metadata": {},
   "outputs": [
    {
     "name": "stdout",
     "output_type": "stream",
     "text": [
      "dict_keys(['loss', 'accuracy', 'val_loss', 'val_accuracy'])\n"
     ]
    },
    {
     "data": {
      "image/png": "[encoded data removed]",
      "text/plain": [
       "<Figure size 432x288 with 1 Axes>"
      ]
     },
     "metadata": {
      "needs_background": "light"
     },
     "output_type": "display_data"
    },
    {
     "data": {
      "image/png": "[encoded data removed]",
      "text/plain": [
       "<Figure size 432x288 with 1 Axes>"
      ]
     },
     "metadata": {
      "needs_background": "light"
     },
     "output_type": "display_data"
    }
   ],
   "source": [
    "print(history.history.keys())\n",
    "# summarize history for accuracy\n",
    "plt.plot(history.history['accuracy'])\n",
    "plt.plot(history.history['val_accuracy'])\n",
    "plt.title('CNN-based model accuracy')\n",
    "plt.ylabel('accuracy')\n",
    "plt.xlabel('epoch')\n",
    "plt.legend(['train', 'test'], loc='upper left')\n",
    "plt.show()\n",
    "# summarize history for loss\n",
    "plt.plot(history.history['loss'])\n",
    "plt.plot(history.history['val_loss'])\n",
    "plt.title('CNN-based model loss')\n",
    "plt.ylabel('loss')\n",
    "plt.xlabel('epoch')\n",
    "plt.legend(['train', 'test'], loc='upper left')\n",
    "plt.show()"
   ]
  },
  {
   "cell_type": "code",
   "execution_count": null,
   "id": "b36c867d",
   "metadata": {},
   "outputs": [],
   "source": []
  }
 ],
 "metadata": {
  "colab": {
   "provenance": []
  },
  "kernelspec": {
   "display_name": "Python 3 (ipykernel)",
   "language": "python",
   "name": "python3"
  },
  "language_info": {
   "codemirror_mode": {
    "name": "ipython",
    "version": 3
   },
   "file_extension": ".py",
   "mimetype": "text/x-python",
   "name": "python",
   "nbconvert_exporter": "python",
   "pygments_lexer": "ipython3",
   "version": "3.10.6"
  }
 },
 "nbformat": 4,
 "nbformat_minor": 5
}
