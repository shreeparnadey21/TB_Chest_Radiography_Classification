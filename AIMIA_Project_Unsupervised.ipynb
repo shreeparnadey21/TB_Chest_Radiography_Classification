{
 "cells": [
  {
   "cell_type": "code",
   "execution_count": 1,
   "id": "b0fecdc7",
   "metadata": {},
   "outputs": [],
   "source": [
    "import numpy as np\n",
    "import matplotlib.pyplot as plt\n",
    "import os\n",
    "import random\n",
    "\n",
    "from sklearn.model_selection import train_test_split\n",
    "from sklearn.metrics import classification_report\n",
    "from sklearn.decomposition import PCA\n",
    "from sklearn.cluster import KMeans\n",
    "from sklearn.mixture import GaussianMixture\n",
    "from sklearn.cluster import DBSCAN\n",
    "from sklearn.cluster import AgglomerativeClustering"
   ]
  },
  {
   "cell_type": "code",
   "execution_count": 2,
   "id": "88ce0629",
   "metadata": {},
   "outputs": [
    {
     "name": "stdout",
     "output_type": "stream",
     "text": [
      "Number of Normal Images: 3500\n",
      "Number of Tuberculosis Images: 700\n"
     ]
    }
   ],
   "source": [
    "imgs=[]\n",
    "\n",
    "p1='TB_Chest_Radiography_Database/Normal'\n",
    "l1=os.listdir('TB_Chest_Radiography_Database/Normal')\n",
    "\n",
    "p2='TB_Chest_Radiography_Database/Tuberculosis'\n",
    "l2=os.listdir('TB_Chest_Radiography_Database/Tuberculosis')\n",
    "\n",
    "print('Number of Normal Images:',len(l1))\n",
    "print('Number of Tuberculosis Images:',len(l2))\n",
    "\n",
    "# for i in l1:\n",
    "#     imgs.append((plt.imread(p1+'/'+i),0))\n",
    "\n",
    "i1_=list(range(len(l1)))\n",
    "random.shuffle(i1_)\n",
    "\n",
    "no=len(l2)\n",
    "# no=len(l1)\n",
    "\n",
    "for i in i1_[:no]:\n",
    "    m1=plt.imread(p1+'/'+l1[i])\n",
    "    if len(m1.shape)==3:\n",
    "        imgs.append((np.mean(m1,axis=2),0))\n",
    "    else:\n",
    "        imgs.append((m1,0))\n",
    "    \n",
    "for i in l2:\n",
    "    m2=plt.imread(p2+'/'+i)\n",
    "    if len(m2.shape)==3:\n",
    "        imgs.append((np.mean(m2,axis=2),1))\n",
    "    else:\n",
    "        imgs.append((m2,1))"
   ]
  },
  {
   "cell_type": "code",
   "execution_count": 3,
   "id": "9a4b1d56",
   "metadata": {},
   "outputs": [
    {
     "name": "stdout",
     "output_type": "stream",
     "text": [
      "Total Images taken to work with: 1400\n"
     ]
    },
    {
     "data": {
      "text/plain": [
       "(262144,)"
      ]
     },
     "execution_count": 3,
     "metadata": {},
     "output_type": "execute_result"
    }
   ],
   "source": [
    "print('Total Images taken to work with:',len(imgs))\n",
    "\n",
    "i_=list(range(len(imgs)))\n",
    "random.shuffle(i_) \n",
    "\n",
    "x=[]\n",
    "y=[]\n",
    "for i in i_:\n",
    "    x.append(imgs[i][0].flatten())\n",
    "    y.append(imgs[i][1])\n",
    "    \n",
    "x[0].shape"
   ]
  },
  {
   "cell_type": "code",
   "execution_count": 4,
   "id": "34e3922a",
   "metadata": {},
   "outputs": [],
   "source": [
    "xtr,xte,ytr,yte=train_test_split(x, y, test_size=0.33, random_state=42)"
   ]
  },
  {
   "cell_type": "code",
   "execution_count": 5,
   "id": "388df644",
   "metadata": {},
   "outputs": [
    {
     "data": {
      "text/plain": [
       "938"
      ]
     },
     "execution_count": 5,
     "metadata": {},
     "output_type": "execute_result"
    }
   ],
   "source": [
    "len(xtr)"
   ]
  },
  {
   "cell_type": "code",
   "execution_count": 7,
   "id": "ff3bac31",
   "metadata": {},
   "outputs": [],
   "source": [
    "pca=PCA(n_components=len(xtr))\n",
    "xtr1=pca.fit_transform(xtr)\n",
    "xte1=pca.transform(xte)"
   ]
  },
  {
   "cell_type": "code",
   "execution_count": 13,
   "id": "bc8602e9",
   "metadata": {},
   "outputs": [
    {
     "name": "stdout",
     "output_type": "stream",
     "text": [
      "Training Report:\n",
      "              precision    recall  f1-score   support\n",
      "\n",
      "           0       0.45      0.52      0.48       448\n",
      "           1       0.49      0.42      0.45       490\n",
      "\n",
      "    accuracy                           0.47       938\n",
      "   macro avg       0.47      0.47      0.47       938\n",
      "weighted avg       0.47      0.47      0.47       938\n",
      "\n",
      "Testing Report:\n",
      "              precision    recall  f1-score   support\n",
      "\n",
      "           0       0.53      0.55      0.54       252\n",
      "           1       0.43      0.41      0.42       210\n",
      "\n",
      "    accuracy                           0.49       462\n",
      "   macro avg       0.48      0.48      0.48       462\n",
      "weighted avg       0.49      0.49      0.49       462\n",
      "\n"
     ]
    }
   ],
   "source": [
    "model=KMeans(n_clusters=2, random_state=0)\n",
    "model.fit(xtr1)\n",
    "ytrpred=model.predict(xtr1)\n",
    "ytepred=model.predict(xte1)\n",
    "\n",
    "print('Training Report:')\n",
    "print(classification_report(ytr,ytrpred))\n",
    "print('Testing Report:')\n",
    "print(classification_report(yte,ytepred))"
   ]
  },
  {
   "cell_type": "code",
   "execution_count": 14,
   "id": "e023b214",
   "metadata": {},
   "outputs": [
    {
     "name": "stdout",
     "output_type": "stream",
     "text": [
      "Training Report:\n",
      "              precision    recall  f1-score   support\n",
      "\n",
      "           0       0.51      0.48      0.50       448\n",
      "           1       0.55      0.58      0.56       490\n",
      "\n",
      "    accuracy                           0.53       938\n",
      "   macro avg       0.53      0.53      0.53       938\n",
      "weighted avg       0.53      0.53      0.53       938\n",
      "\n",
      "Testing Report:\n",
      "              precision    recall  f1-score   support\n",
      "\n",
      "           0       0.56      0.45      0.50       252\n",
      "           1       0.47      0.59      0.52       210\n",
      "\n",
      "    accuracy                           0.51       462\n",
      "   macro avg       0.52      0.52      0.51       462\n",
      "weighted avg       0.52      0.51      0.51       462\n",
      "\n"
     ]
    }
   ],
   "source": [
    "print('Training Report:')\n",
    "print(classification_report(ytr,1-np.array(ytrpred)))\n",
    "print('Testing Report:')\n",
    "print(classification_report(yte,1-np.array(ytepred)))"
   ]
  },
  {
   "cell_type": "code",
   "execution_count": 8,
   "id": "a1541b00",
   "metadata": {},
   "outputs": [
    {
     "name": "stdout",
     "output_type": "stream",
     "text": [
      "Training Report:\n",
      "              precision    recall  f1-score   support\n",
      "\n",
      "           0       0.48      0.55      0.51       466\n",
      "           1       0.48      0.41      0.44       472\n",
      "\n",
      "    accuracy                           0.48       938\n",
      "   macro avg       0.48      0.48      0.48       938\n",
      "weighted avg       0.48      0.48      0.48       938\n",
      "\n",
      "Testing Report:\n",
      "              precision    recall  f1-score   support\n",
      "\n",
      "           0       0.55      0.89      0.68       234\n",
      "           1       0.69      0.25      0.36       228\n",
      "\n",
      "    accuracy                           0.57       462\n",
      "   macro avg       0.62      0.57      0.52       462\n",
      "weighted avg       0.62      0.57      0.52       462\n",
      "\n"
     ]
    }
   ],
   "source": [
    "model=GaussianMixture(n_components=2, random_state=0)\n",
    "model.fit(xtr1)\n",
    "ytrpred=model.predict(xtr1)\n",
    "ytepred=model.predict(xte1)\n",
    "\n",
    "print('Training Report:')\n",
    "print(classification_report(ytr,ytrpred))\n",
    "print('Testing Report:')\n",
    "print(classification_report(yte,ytepred))"
   ]
  },
  {
   "cell_type": "code",
   "execution_count": 9,
   "id": "e49dcbfe",
   "metadata": {},
   "outputs": [
    {
     "name": "stdout",
     "output_type": "stream",
     "text": [
      "Training Report:\n",
      "              precision    recall  f1-score   support\n",
      "\n",
      "           0       0.52      0.45      0.48       466\n",
      "           1       0.52      0.59      0.55       472\n",
      "\n",
      "    accuracy                           0.52       938\n",
      "   macro avg       0.52      0.52      0.52       938\n",
      "weighted avg       0.52      0.52      0.52       938\n",
      "\n",
      "Testing Report:\n",
      "              precision    recall  f1-score   support\n",
      "\n",
      "           0       0.31      0.11      0.16       234\n",
      "           1       0.45      0.75      0.56       228\n",
      "\n",
      "    accuracy                           0.43       462\n",
      "   macro avg       0.38      0.43      0.36       462\n",
      "weighted avg       0.38      0.43      0.36       462\n",
      "\n"
     ]
    }
   ],
   "source": [
    "print('Training Report:')\n",
    "print(classification_report(ytr,1-np.array(ytrpred)))\n",
    "print('Testing Report:')\n",
    "print(classification_report(yte,1-np.array(ytepred)))"
   ]
  },
  {
   "cell_type": "code",
   "execution_count": 12,
   "id": "ca0c2c98",
   "metadata": {},
   "outputs": [
    {
     "name": "stdout",
     "output_type": "stream",
     "text": [
      "Testing Report:\n",
      "              precision    recall  f1-score   support\n",
      "\n",
      "           0       0.53      0.84      0.65       234\n",
      "           1       0.57      0.22      0.32       228\n",
      "\n",
      "    accuracy                           0.53       462\n",
      "   macro avg       0.55      0.53      0.48       462\n",
      "weighted avg       0.55      0.53      0.48       462\n",
      "\n"
     ]
    }
   ],
   "source": [
    "model=AgglomerativeClustering(n_clusters=2, linkage='complete')\n",
    "ytepred=model.fit_predict(xte)\n",
    "\n",
    "print('Testing Report:')\n",
    "print(classification_report(yte,ytepred))"
   ]
  },
  {
   "cell_type": "code",
   "execution_count": 13,
   "id": "05201cf4",
   "metadata": {},
   "outputs": [
    {
     "name": "stdout",
     "output_type": "stream",
     "text": [
      "Testing Report:\n",
      "              precision    recall  f1-score   support\n",
      "\n",
      "           0       0.43      0.16      0.23       234\n",
      "           1       0.47      0.78      0.59       228\n",
      "\n",
      "    accuracy                           0.47       462\n",
      "   macro avg       0.45      0.47      0.41       462\n",
      "weighted avg       0.45      0.47      0.41       462\n",
      "\n"
     ]
    }
   ],
   "source": [
    "print('Testing Report:')\n",
    "print(classification_report(yte,1-np.array(ytepred)))"
   ]
  },
  {
   "cell_type": "code",
   "execution_count": null,
   "id": "5f402634",
   "metadata": {},
   "outputs": [],
   "source": []
  }
 ],
 "metadata": {
  "kernelspec": {
   "display_name": "Python 3 (ipykernel)",
   "language": "python",
   "name": "python3"
  },
  "language_info": {
   "codemirror_mode": {
    "name": "ipython",
    "version": 3
   },
   "file_extension": ".py",
   "mimetype": "text/x-python",
   "name": "python",
   "nbconvert_exporter": "python",
   "pygments_lexer": "ipython3",
   "version": "3.10.6"
  }
 },
 "nbformat": 4,
 "nbformat_minor": 5
}
