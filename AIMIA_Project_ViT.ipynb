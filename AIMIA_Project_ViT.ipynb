{
 "cells": [
  {
   "cell_type": "code",
   "execution_count": 1,
   "id": "410695b5",
   "metadata": {},
   "outputs": [],
   "source": [
    "# !pip3 install transformers\n",
    "# !pip3 install -q hugsvision\n",
    "# !pip3 install tensorboard"
   ]
  },
  {
   "cell_type": "code",
   "execution_count": 2,
   "id": "1b8449ff",
   "metadata": {},
   "outputs": [],
   "source": [
    "from hugsvision.dataio.VisionDataset import VisionDataset\n",
    "\n",
    "train,test,id2label,label2id=VisionDataset.fromImageFolder(\n",
    "    './TB_Chest_Radiography_Database/',\n",
    "    test_ratio=0.33,\n",
    "    balanced= True,\n",
    "    augmentation=True)"
   ]
  },
  {
   "cell_type": "code",
   "execution_count": 3,
   "id": "f1fdf0ae",
   "metadata": {},
   "outputs": [],
   "source": [
    "huggingface_model = 'google/vit-base-patch16-224-in21k'\n",
    "\n",
    "from transformers import ViTFeatureExtractor, ViTForImageClassification\n",
    "from hugsvision.nnet.VisionClassifierTrainer import VisionClassifierTrainer"
   ]
  },
  {
   "cell_type": "code",
   "execution_count": 6,
   "id": "65f0f205",
   "metadata": {},
   "outputs": [
    {
     "name": "stderr",
     "output_type": "stream",
     "text": [
      "Some weights of the model checkpoint at google/vit-base-patch16-224-in21k were not used when initializing ViTForImageClassification: ['pooler.dense.bias', 'pooler.dense.weight']\n",
      "- This IS expected if you are initializing ViTForImageClassification from the checkpoint of a model trained on another task or with another architecture (e.g. initializing a BertForSequenceClassification model from a BertForPreTraining model).\n",
      "- This IS NOT expected if you are initializing ViTForImageClassification from the checkpoint of a model that you expect to be exactly identical (initializing a BertForSequenceClassification model from a BertForSequenceClassification model).\n",
      "Some weights of ViTForImageClassification were not initialized from the model checkpoint at google/vit-base-patch16-224-in21k and are newly initialized: ['classifier.bias', 'classifier.weight']\n",
      "You should probably TRAIN this model on a down-stream task to be able to use it for predictions and inference.\n",
      "/home/shreeparna/Desktop/notebook/jupyterenv/lib/python3.10/site-packages/transformers/optimization.py:306: FutureWarning: This implementation of AdamW is deprecated and will be removed in a future version. Use the PyTorch implementation torch.optim.AdamW instead, or set `no_deprecation_warning=True` to disable this warning\n",
      "  warnings.warn(\n",
      "***** Running training *****\n",
      "  Num examples = 937\n",
      "  Num Epochs = 10\n",
      "  Instantaneous batch size per device = 32\n",
      "  Total train batch size (w. parallel, distributed & accumulation) = 32\n",
      "  Gradient Accumulation steps = 1\n",
      "  Total optimization steps = 300\n"
     ]
    },
    {
     "name": "stdout",
     "output_type": "stream",
     "text": [
      "{'0': 'Normal', '1': 'Tuberculosis'}\n",
      "{'Normal': '0', 'Tuberculosis': '1'}\n",
      "Trainer builded!\n",
      "Start Training!\n"
     ]
    },
    {
     "data": {
      "text/html": [
       "\n",
       "    <div>\n",
       "      \n",
       "      <progress value='300' max='300' style='width:300px; height:20px; vertical-align: middle;'></progress>\n",
       "      [300/300 1:03:34, Epoch 10/10]\n",
       "    </div>\n",
       "    <table border=\"1\" class=\"dataframe\">\n",
       "  <thead>\n",
       " <tr style=\"text-align: left;\">\n",
       "      <th>Epoch</th>\n",
       "      <th>Training Loss</th>\n",
       "      <th>Validation Loss</th>\n",
       "    </tr>\n",
       "  </thead>\n",
       "  <tbody>\n",
       "    <tr>\n",
       "      <td>1</td>\n",
       "      <td>No log</td>\n",
       "      <td>0.186371</td>\n",
       "    </tr>\n",
       "    <tr>\n",
       "      <td>2</td>\n",
       "      <td>No log</td>\n",
       "      <td>0.056751</td>\n",
       "    </tr>\n",
       "    <tr>\n",
       "      <td>3</td>\n",
       "      <td>No log</td>\n",
       "      <td>0.041557</td>\n",
       "    </tr>\n",
       "    <tr>\n",
       "      <td>4</td>\n",
       "      <td>No log</td>\n",
       "      <td>0.035837</td>\n",
       "    </tr>\n",
       "    <tr>\n",
       "      <td>5</td>\n",
       "      <td>No log</td>\n",
       "      <td>0.032537</td>\n",
       "    </tr>\n",
       "    <tr>\n",
       "      <td>6</td>\n",
       "      <td>No log</td>\n",
       "      <td>0.031364</td>\n",
       "    </tr>\n",
       "    <tr>\n",
       "      <td>7</td>\n",
       "      <td>No log</td>\n",
       "      <td>0.030548</td>\n",
       "    </tr>\n",
       "    <tr>\n",
       "      <td>8</td>\n",
       "      <td>No log</td>\n",
       "      <td>0.030117</td>\n",
       "    </tr>\n",
       "    <tr>\n",
       "      <td>9</td>\n",
       "      <td>No log</td>\n",
       "      <td>0.030213</td>\n",
       "    </tr>\n",
       "    <tr>\n",
       "      <td>10</td>\n",
       "      <td>No log</td>\n",
       "      <td>0.030308</td>\n",
       "    </tr>\n",
       "  </tbody>\n",
       "</table><p>"
      ],
      "text/plain": [
       "<IPython.core.display.HTML object>"
      ]
     },
     "metadata": {},
     "output_type": "display_data"
    },
    {
     "name": "stderr",
     "output_type": "stream",
     "text": [
      "***** Running Evaluation *****\n",
      "  Num examples = 463\n",
      "  Batch size = 32\n",
      "***** Running Evaluation *****\n",
      "  Num examples = 463\n",
      "  Batch size = 32\n",
      "***** Running Evaluation *****\n",
      "  Num examples = 463\n",
      "  Batch size = 32\n",
      "***** Running Evaluation *****\n",
      "  Num examples = 463\n",
      "  Batch size = 32\n",
      "***** Running Evaluation *****\n",
      "  Num examples = 463\n",
      "  Batch size = 32\n",
      "***** Running Evaluation *****\n",
      "  Num examples = 463\n",
      "  Batch size = 32\n",
      "***** Running Evaluation *****\n",
      "  Num examples = 463\n",
      "  Batch size = 32\n",
      "***** Running Evaluation *****\n",
      "  Num examples = 463\n",
      "  Batch size = 32\n",
      "***** Running Evaluation *****\n",
      "  Num examples = 463\n",
      "  Batch size = 32\n",
      "***** Running Evaluation *****\n",
      "  Num examples = 463\n",
      "  Batch size = 32\n",
      "\n",
      "\n",
      "Training completed. Do not forget to share your model on huggingface.co/models =)\n",
      "\n",
      "\n",
      "Saving model checkpoint to ./out/MYMODEL/10_2022-12-07-20-21-54/trainer/\n",
      "Configuration saved in ./out/MYMODEL/10_2022-12-07-20-21-54/trainer/config.json\n",
      "Model weights saved in ./out/MYMODEL/10_2022-12-07-20-21-54/trainer/pytorch_model.bin\n",
      "Configuration saved in ./out/MYMODEL/10_2022-12-07-20-21-54/model/config.json\n",
      "Model weights saved in ./out/MYMODEL/10_2022-12-07-20-21-54/model/pytorch_model.bin\n",
      "Feature extractor saved in ./out/MYMODEL/10_2022-12-07-20-21-54/feature_extractor/preprocessor_config.json\n"
     ]
    },
    {
     "name": "stdout",
     "output_type": "stream",
     "text": [
      "Model saved at: \u001b[93m./out/MYMODEL/10_2022-12-07-20-21-54\u001b[0m\n"
     ]
    }
   ],
   "source": [
    "trainer=VisionClassifierTrainer(\n",
    "    model_name='MyModel',train=train,test=test,output_dir='./out/',\n",
    "    max_epochs=10,batch_size=32,\n",
    "    model=ViTForImageClassification.from_pretrained(huggingface_model,\n",
    "                                                    num_labels = len(label2id),\n",
    "                                                    label2id=label2id,\n",
    "                                                    id2label=id2label),\n",
    "    feature_extractor = ViTFeatureExtractor.from_pretrained(huggingface_model,),)"
   ]
  },
  {
   "cell_type": "code",
   "execution_count": 11,
   "id": "9ff8b644",
   "metadata": {
    "scrolled": true
   },
   "outputs": [
    {
     "name": "stderr",
     "output_type": "stream",
     "text": [
      "100%|████████████████████████████████████████████████████████████████████████████████████████████████████████████████████████████████████████████████████████████████████| 463/463 [01:08<00:00,  6.77it/s]"
     ]
    },
    {
     "name": "stdout",
     "output_type": "stream",
     "text": [
      "              precision    recall  f1-score   support\n",
      "\n",
      "      Normal     0.9915    0.9957    0.9936       235\n",
      "Tuberculosis     0.9956    0.9912    0.9934       228\n",
      "\n",
      "    accuracy                         0.9935       463\n",
      "   macro avg     0.9936    0.9935    0.9935       463\n",
      "weighted avg     0.9935    0.9935    0.9935       463\n",
      "\n",
      "Logs saved at: \u001b[93m./out/MYMODEL/10_2022-12-07-20-21-54\u001b[0m\n"
     ]
    },
    {
     "name": "stderr",
     "output_type": "stream",
     "text": [
      "\n"
     ]
    }
   ],
   "source": [
    "ref,hyp=trainer.evaluate_f1_score()"
   ]
  },
  {
   "cell_type": "code",
   "execution_count": 8,
   "id": "f053e406",
   "metadata": {},
   "outputs": [
    {
     "name": "stdout",
     "output_type": "stream",
     "text": [
      "\u001b[31mERROR: Could not find a version that satisfies the requirement tensorboardimport (from versions: none)\u001b[0m\u001b[31m\r\n",
      "\u001b[0m\u001b[31mERROR: No matching distribution found for tensorboardimport\u001b[0m\u001b[31m\r\n",
      "\u001b[0m"
     ]
    }
   ],
   "source": [
    "# !pip3 install tensorboardimport os.path"
   ]
  },
  {
   "cell_type": "code",
   "execution_count": 9,
   "id": "0abcc502",
   "metadata": {},
   "outputs": [],
   "source": [
    "from transformers import ViTFeatureExtractor, ViTForImageClassification\n",
    "from hugsvision.inference.VisionClassifierInference import VisionClassifierInference"
   ]
  },
  {
   "cell_type": "code",
   "execution_count": 10,
   "id": "25d1becc",
   "metadata": {},
   "outputs": [
    {
     "name": "stderr",
     "output_type": "stream",
     "text": [
      "loading feature extractor configuration file out/MYMODEL/1_2022-11-28-19-11-52/feature_extractor/preprocessor_config.json\n",
      "Feature extractor ViTFeatureExtractor {\n",
      "  \"do_normalize\": true,\n",
      "  \"do_resize\": true,\n",
      "  \"feature_extractor_type\": \"ViTFeatureExtractor\",\n",
      "  \"image_mean\": [\n",
      "    0.5,\n",
      "    0.5,\n",
      "    0.5\n",
      "  ],\n",
      "  \"image_std\": [\n",
      "    0.5,\n",
      "    0.5,\n",
      "    0.5\n",
      "  ],\n",
      "  \"resample\": 2,\n",
      "  \"size\": 224\n",
      "}\n",
      "\n",
      "loading configuration file out/MYMODEL/1_2022-11-28-19-11-52/model/config.json\n",
      "Model config ViTConfig {\n",
      "  \"_name_or_path\": \"google/vit-base-patch16-224-in21k\",\n",
      "  \"architectures\": [\n",
      "    \"ViTForImageClassification\"\n",
      "  ],\n",
      "  \"attention_probs_dropout_prob\": 0.0,\n",
      "  \"encoder_stride\": 16,\n",
      "  \"hidden_act\": \"gelu\",\n",
      "  \"hidden_dropout_prob\": 0.0,\n",
      "  \"hidden_size\": 768,\n",
      "  \"id2label\": {\n",
      "    \"0\": \"Normal\",\n",
      "    \"1\": \"Tuberculosis\"\n",
      "  },\n",
      "  \"image_size\": 224,\n",
      "  \"initializer_range\": 0.02,\n",
      "  \"intermediate_size\": 3072,\n",
      "  \"label2id\": {\n",
      "    \"Normal\": \"0\",\n",
      "    \"Tuberculosis\": \"1\"\n",
      "  },\n",
      "  \"layer_norm_eps\": 1e-12,\n",
      "  \"model_type\": \"vit\",\n",
      "  \"num_attention_heads\": 12,\n",
      "  \"num_channels\": 3,\n",
      "  \"num_hidden_layers\": 12,\n",
      "  \"patch_size\": 16,\n",
      "  \"problem_type\": \"single_label_classification\",\n",
      "  \"qkv_bias\": true,\n",
      "  \"torch_dtype\": \"float32\",\n",
      "  \"transformers_version\": \"4.20.1\"\n",
      "}\n",
      "\n",
      "loading weights file out/MYMODEL/1_2022-11-28-19-11-52/model/pytorch_model.bin\n",
      "All model checkpoint weights were used when initializing ViTForImageClassification.\n",
      "\n",
      "All the weights of ViTForImageClassification were initialized from the model checkpoint at out/MYMODEL/1_2022-11-28-19-11-52/model.\n",
      "If your task is similar to the task the model of the checkpoint was trained on, you can already use ViTForImageClassification for predictions without further training.\n"
     ]
    },
    {
     "name": "stdout",
     "output_type": "stream",
     "text": [
      "Model loaded!\n",
      "Predicted class: Normal\n"
     ]
    }
   ],
   "source": [
    "path='out/MYMODEL/1_2022-11-28-19-11-52/'\n",
    "img ='TB_Chest_Radiography_Database/Normal/Normal-54.png'\n",
    "\n",
    "classifier=VisionClassifierInference(\n",
    "    feature_extractor=ViTFeatureExtractor.from_pretrained(path+'feature_extractor'),\n",
    "    model=ViTForImageClassification.from_pretrained(path+'model'),)\n",
    "\n",
    "label=classifier.predict(img_path=img)\n",
    "print(\"Predicted class:\", label)"
   ]
  },
  {
   "cell_type": "code",
   "execution_count": null,
   "id": "eb3b9f11",
   "metadata": {},
   "outputs": [],
   "source": []
  }
 ],
 "metadata": {
  "kernelspec": {
   "display_name": "Python 3 (ipykernel)",
   "language": "python",
   "name": "python3"
  },
  "language_info": {
   "codemirror_mode": {
    "name": "ipython",
    "version": 3
   },
   "file_extension": ".py",
   "mimetype": "text/x-python",
   "name": "python",
   "nbconvert_exporter": "python",
   "pygments_lexer": "ipython3",
   "version": "3.10.6"
  }
 },
 "nbformat": 4,
 "nbformat_minor": 5
}
